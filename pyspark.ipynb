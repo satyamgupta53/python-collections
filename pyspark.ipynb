{
 "cells": [
  {
   "cell_type": "code",
   "execution_count": 53,
   "metadata": {},
   "outputs": [],
   "source": [
    "import pyspark\n",
    "import pandas as pd"
   ]
  },
  {
   "cell_type": "code",
   "execution_count": 54,
   "metadata": {},
   "outputs": [
    {
     "name": "stdout",
     "output_type": "stream",
     "text": [
      "+------+------+------+\n",
      "|  date|prices|salary|\n",
      "+------+------+------+\n",
      "| 6-Mar|   310| 56721|\n",
      "| 7-Mar|   340| 98761|\n",
      "| 8-Mar|   380|  NULL|\n",
      "| 9-Mar|   302| 56123|\n",
      "|10-Mar|   297| 28912|\n",
      "|11-Mar|   323| 98683|\n",
      "|  NULL|   324| 26181|\n",
      "|12-Mar|  NULL|  NULL|\n",
      "+------+------+------+\n",
      "\n"
     ]
    }
   ],
   "source": [
    "# creating a spark session\n",
    "from pyspark.sql import SparkSession\n",
    "spark = SparkSession.builder.appName(\"Practice\").getOrCreate()\n",
    "\n",
    "# creating a data frame, infer schema used to maintain the datatypes\n",
    "data_spark = spark.read.option('header', 'true').csv(\"F:\\programming\\python-development\\python-questions\\Database\\stock_prices.csv\", inferSchema=True)\n",
    "data_spark.show()"
   ]
  },
  {
   "cell_type": "code",
   "execution_count": 55,
   "metadata": {},
   "outputs": [
    {
     "name": "stdout",
     "output_type": "stream",
     "text": [
      "root\n",
      " |-- date: string (nullable = true)\n",
      " |-- prices: integer (nullable = true)\n",
      " |-- salary: integer (nullable = true)\n",
      "\n"
     ]
    }
   ],
   "source": [
    "# print the schema of the data frame\n",
    "data_spark.printSchema()"
   ]
  },
  {
   "cell_type": "code",
   "execution_count": 59,
   "metadata": {},
   "outputs": [
    {
     "name": "stdout",
     "output_type": "stream",
     "text": [
      "+-------+------+------------------+------------------+\n",
      "|summary|  date|            prices|            salary|\n",
      "+-------+------+------------------+------------------+\n",
      "|  count|     7|                 7|                 6|\n",
      "|   mean|  NULL|325.14285714285717|60896.833333333336|\n",
      "| stddev|  NULL|28.263218567769734|32031.032530448763|\n",
      "|    min|10-Mar|               297|             26181|\n",
      "|    max| 9-Mar|               380|             98761|\n",
      "+-------+------+------------------+------------------+\n",
      "\n"
     ]
    }
   ],
   "source": [
    "data_spark.columns # list all the columns\n",
    "data_spark.dtypes # check the dtype of the data frames\n",
    "\n",
    "data_spark.describe().show() # describing the data frame\n",
    "# data_spark.select('prices').show() # selecting a columns & returns a data frame\n",
    "# data_spark.withColumnRenamed('prices', 'old_prices').show() # renaming the columns\n",
    "# data_spark.drop('new_prices').show() drops the column from the data frame\n",
    "# data_spark.withColumn('new_prices', data_spark['prices'] * 1.01).show() # create a new column"
   ]
  },
  {
   "cell_type": "code",
   "execution_count": 69,
   "metadata": {},
   "outputs": [
    {
     "name": "stdout",
     "output_type": "stream",
     "text": [
      "+------+------+------+\n",
      "|  date|prices|salary|\n",
      "+------+------+------+\n",
      "| 6-Mar|   310| 56721|\n",
      "| 7-Mar|   340| 98761|\n",
      "| 8-Mar|   380|  NULL|\n",
      "| 9-Mar|   302| 56123|\n",
      "|10-Mar|   297| 28912|\n",
      "|11-Mar|   323| 98683|\n",
      "|  NULL|   324| 26181|\n",
      "+------+------+------+\n",
      "\n",
      "+------+------+------+\n",
      "|  date|prices|salary|\n",
      "+------+------+------+\n",
      "| 6-Mar|   310| 56721|\n",
      "| 7-Mar|   340| 98761|\n",
      "| 8-Mar|   380|  NULL|\n",
      "| 9-Mar|   302| 56123|\n",
      "|10-Mar|   297| 28912|\n",
      "|11-Mar|   323| 98683|\n",
      "|  NULL|   324| 26181|\n",
      "|12-Mar|  NULL|  NULL|\n",
      "+------+------+------+\n",
      "\n"
     ]
    }
   ],
   "source": [
    "data_spark.na.drop(how='any', thresh=1, subset=['prices']).show() # drop the rows with missing values, how='any' , how='all'\n",
    "data_spark.na.fill('Not defined', ['prices', 'salary']).show() # fill the missing values with the given value"
   ]
  },
  {
   "cell_type": "code",
   "execution_count": 71,
   "metadata": {},
   "outputs": [
    {
     "name": "stdout",
     "output_type": "stream",
     "text": [
      "+------+------+------+--------------+--------------+\n",
      "|  date|prices|salary|prices_imputed|salary_imputed|\n",
      "+------+------+------+--------------+--------------+\n",
      "| 6-Mar|   310| 56721|           310|         56721|\n",
      "| 7-Mar|   340| 98761|           340|         98761|\n",
      "| 8-Mar|   380|  NULL|           380|         60896|\n",
      "| 9-Mar|   302| 56123|           302|         56123|\n",
      "|10-Mar|   297| 28912|           297|         28912|\n",
      "|11-Mar|   323| 98683|           323|         98683|\n",
      "|  NULL|   324| 26181|           324|         26181|\n",
      "|12-Mar|  NULL|  NULL|           325|         60896|\n",
      "+------+------+------+--------------+--------------+\n",
      "\n"
     ]
    }
   ],
   "source": [
    "from pyspark.ml.feature import Imputer\n",
    "imputer = Imputer(strategy='mean',\n",
    "    inputCols=['prices', 'salary'],\n",
    "    outputCols=['prices_imputed', 'salary_imputed'])\n",
    "\n",
    "imputer.fit(data_spark).transform(data_spark).show()"
   ]
  },
  {
   "cell_type": "code",
   "execution_count": 83,
   "metadata": {},
   "outputs": [
    {
     "name": "stdout",
     "output_type": "stream",
     "text": [
      "+-----+------+\n",
      "| date|salary|\n",
      "+-----+------+\n",
      "|6-Mar| 56721|\n",
      "|9-Mar| 56123|\n",
      "+-----+------+\n",
      "\n",
      "+---------+------------+------+\n",
      "|     Name| Departments|salary|\n",
      "+---------+------------+------+\n",
      "|    Krish|Data Science| 10000|\n",
      "|    Krish|         IOT|  5000|\n",
      "|   Mahesh|    Big Data|  4000|\n",
      "|    Krish|    Big Data|  4000|\n",
      "|   Mahesh|Data Science|  3000|\n",
      "|Sudhanshu|Data Science| 20000|\n",
      "|Sudhanshu|         IOT| 10000|\n",
      "|Sudhanshu|    Big Data|  5000|\n",
      "|    Sunny|Data Science| 10000|\n",
      "|    Sunny|    Big Data|  2000|\n",
      "+---------+------------+------+\n",
      "\n"
     ]
    }
   ],
   "source": [
    "# filter the data frame & ~ is a not operator\n",
    "data_spark.filter(\"salary>40000 and salary<60000\").select(['date', 'salary']).show()\n",
    "\n",
    "# group by the data frame and perform the aggregation\n",
    "data = spark.read.csv(\"F:\\programming\\python-development\\python-questions\\Database\\pyspark_practice_data.csv\", header=True, inferSchema=True)\n",
    "data.show()"
   ]
  },
  {
   "cell_type": "code",
   "execution_count": 92,
   "metadata": {},
   "outputs": [
    {
     "name": "stdout",
     "output_type": "stream",
     "text": [
      "+---------+-----------+\n",
      "|     name|sum(salary)|\n",
      "+---------+-----------+\n",
      "|Sudhanshu|      35000|\n",
      "|    Sunny|      12000|\n",
      "|    Krish|      19000|\n",
      "|   Mahesh|       7000|\n",
      "+---------+-----------+\n",
      "\n",
      "+------------+-----------+\n",
      "| Departments|sum(salary)|\n",
      "+------------+-----------+\n",
      "|         IOT|      15000|\n",
      "|    Big Data|      15000|\n",
      "|Data Science|      43000|\n",
      "+------------+-----------+\n",
      "\n",
      "+------------+-----+\n",
      "| Departments|count|\n",
      "+------------+-----+\n",
      "|         IOT|    2|\n",
      "|    Big Data|    4|\n",
      "|Data Science|    4|\n",
      "+------------+-----+\n",
      "\n",
      "+-----------+\n",
      "|sum(salary)|\n",
      "+-----------+\n",
      "|      73000|\n",
      "+-----------+\n",
      "\n"
     ]
    }
   ],
   "source": [
    "# group by the data frame and perform the aggregation\n",
    "data.groupBy('name').sum().show()\n",
    "data.groupBy('Departments').sum().show()\n",
    "data.groupBy('Departments').count().show()\n",
    "\n",
    "data.agg( {'salary': 'sum'}).show()"
   ]
  },
  {
   "cell_type": "code",
   "execution_count": 97,
   "metadata": {},
   "outputs": [
    {
     "name": "stdout",
     "output_type": "stream",
     "text": [
      "root\n",
      " |-- TV: double (nullable = true)\n",
      " |-- Radio: double (nullable = true)\n",
      " |-- Newspaper: double (nullable = true)\n",
      " |-- Sales: double (nullable = true)\n",
      "\n"
     ]
    }
   ],
   "source": [
    "# Machine Learning \n",
    "from pyspark.ml.regression import LinearRegression\n",
    "from pyspark.ml.feature import VectorAssembler\n",
    "\n",
    "training = spark.read.csv(\"F:\\programming\\python-development\\python-questions\\Database\\\\advertising-data.csv\", header=True, inferSchema=True)\n",
    "training.printSchema()"
   ]
  },
  {
   "cell_type": "code",
   "execution_count": 100,
   "metadata": {},
   "outputs": [
    {
     "data": {
      "text/plain": [
       "[Row(TV=230.1, Radio=37.8, Newspaper=69.2, Sales=22.1, Independent Features=DenseVector([230.1, 37.8, 69.2])),\n",
       " Row(TV=44.5, Radio=39.3, Newspaper=45.1, Sales=10.4, Independent Features=DenseVector([44.5, 39.3, 45.1])),\n",
       " Row(TV=17.2, Radio=45.9, Newspaper=69.3, Sales=12.0, Independent Features=DenseVector([17.2, 45.9, 69.3])),\n",
       " Row(TV=151.5, Radio=41.3, Newspaper=58.5, Sales=16.5, Independent Features=DenseVector([151.5, 41.3, 58.5])),\n",
       " Row(TV=180.8, Radio=10.8, Newspaper=58.4, Sales=17.9, Independent Features=DenseVector([180.8, 10.8, 58.4]))]"
      ]
     },
     "execution_count": 100,
     "metadata": {},
     "output_type": "execute_result"
    }
   ],
   "source": [
    "# [TV, Radio, Newspaper] --> Group them to create a joint independent features\n",
    "feature = VectorAssembler(inputCols=['TV', 'Radio', 'Newspaper'], outputCol='Independent Features')\n",
    "output = feature.transform(training)\n",
    "output.head(5)"
   ]
  },
  {
   "cell_type": "code",
   "execution_count": 103,
   "metadata": {},
   "outputs": [
    {
     "name": "stdout",
     "output_type": "stream",
     "text": [
      "+--------------------+-----+\n",
      "|Independent Features|Sales|\n",
      "+--------------------+-----+\n",
      "|   [230.1,37.8,69.2]| 22.1|\n",
      "|    [44.5,39.3,45.1]| 10.4|\n",
      "|    [17.2,45.9,69.3]| 12.0|\n",
      "|   [151.5,41.3,58.5]| 16.5|\n",
      "|   [180.8,10.8,58.4]| 17.9|\n",
      "|     [8.7,48.9,75.0]|  7.2|\n",
      "|    [57.5,32.8,23.5]| 11.8|\n",
      "|   [120.2,19.6,11.6]| 13.2|\n",
      "|       [8.6,2.1,1.0]|  4.8|\n",
      "|    [199.8,2.6,21.2]| 15.6|\n",
      "|     [66.1,5.8,24.2]| 12.6|\n",
      "|    [214.7,24.0,4.0]| 17.4|\n",
      "|    [23.8,35.1,65.9]|  9.2|\n",
      "|      [97.5,7.6,7.2]| 13.7|\n",
      "|   [204.1,32.9,46.0]| 19.0|\n",
      "|   [195.4,47.7,52.9]| 22.4|\n",
      "|   [67.8,36.6,114.0]| 12.5|\n",
      "|   [281.4,39.6,55.8]| 24.4|\n",
      "|    [69.2,20.5,18.3]| 11.3|\n",
      "|   [147.3,23.9,19.1]| 14.6|\n",
      "+--------------------+-----+\n",
      "only showing top 20 rows\n",
      "\n"
     ]
    }
   ],
   "source": [
    "finalized_data = output.select('Independent Features', 'Sales')\n",
    "finalized_data.show()"
   ]
  },
  {
   "cell_type": "code",
   "execution_count": 106,
   "metadata": {},
   "outputs": [
    {
     "data": {
      "text/plain": [
       "(DenseVector([0.055, 0.1051, -0.0006]), 4.606766133922833)"
      ]
     },
     "execution_count": 106,
     "metadata": {},
     "output_type": "execute_result"
    }
   ],
   "source": [
    "train_data, test_data = finalized_data.randomSplit([0.70, 0.30])\n",
    "model = LinearRegression(featuresCol='Independent Features', labelCol='Sales')\n",
    "model = model.fit(train_data)\n",
    "model.coefficients, model.intercept"
   ]
  },
  {
   "cell_type": "code",
   "execution_count": 110,
   "metadata": {},
   "outputs": [
    {
     "name": "stdout",
     "output_type": "stream",
     "text": [
      "+--------------------+-----+------------------+\n",
      "|Independent Features|Sales|        prediction|\n",
      "+--------------------+-----+------------------+\n",
      "|      [4.1,11.6,5.7]|  3.2| 6.047410369490728|\n",
      "|      [8.4,27.2,2.1]|  5.7| 7.925128401077178|\n",
      "|     [13.1,0.4,25.6]|  5.3| 5.353430261567498|\n",
      "|    [17.9,37.6,21.6]|  8.0| 9.528127075079963|\n",
      "|     [25.6,39.0,9.3]|  9.5|10.106571201253132|\n",
      "|     [27.5,1.6,20.7]|  6.9| 6.274830164519072|\n",
      "|    [36.9,38.6,65.6]| 10.8|10.650865085836086|\n",
      "|    [38.0,40.3,11.9]| 10.9|10.923728238967449|\n",
      "|    [44.7,25.8,20.6]| 10.1| 9.763560252751759|\n",
      "|    [57.5,32.8,23.5]| 11.8|11.201357357441697|\n",
      "|    [59.6,12.0,43.1]|  9.7| 9.119403050626158|\n",
      "|     [66.1,5.8,24.2]| 12.6| 8.837545127421357|\n",
      "|    [66.9,11.7,36.8]|  9.7| 9.493473526110103|\n",
      "|    [68.4,44.5,35.6]| 13.6|13.022604503674025|\n",
      "|    [74.7,49.4,45.7]| 14.7|  13.8776441658489|\n",
      "|     [75.5,10.8,6.0]| 11.9| 9.891430073241242|\n",
      "|      [97.5,7.6,7.2]| 13.7|10.764881586297147|\n",
      "|     [100.4,9.6,3.6]| 10.7| 11.13680776043385|\n",
      "|   [112.9,17.4,38.6]| 11.9|12.621971387470406|\n",
      "|    [117.2,14.7,5.4]| 11.9|12.595759186857787|\n",
      "+--------------------+-----+------------------+\n",
      "only showing top 20 rows\n",
      "\n"
     ]
    }
   ],
   "source": [
    "prediction = model.evaluate(test_data)\n",
    "prediction.predictions.show()"
   ]
  },
  {
   "cell_type": "code",
   "execution_count": 111,
   "metadata": {},
   "outputs": [
    {
     "data": {
      "text/plain": [
       "(0.899329964948218, 1.2089819858871158, 2.530603055640235)"
      ]
     },
     "execution_count": 111,
     "metadata": {},
     "output_type": "execute_result"
    }
   ],
   "source": [
    "prediction.r2, prediction.meanAbsoluteError, prediction.meanSquaredError"
   ]
  },
  {
   "cell_type": "code",
   "execution_count": 112,
   "metadata": {},
   "outputs": [
    {
     "name": "stdout",
     "output_type": "stream",
     "text": [
      "+---------+------------+------+-----------------+\n",
      "|     Name| Departments|salary|Departments_index|\n",
      "+---------+------------+------+-----------------+\n",
      "|    Krish|Data Science| 10000|              1.0|\n",
      "|    Krish|         IOT|  5000|              2.0|\n",
      "|   Mahesh|    Big Data|  4000|              0.0|\n",
      "|    Krish|    Big Data|  4000|              0.0|\n",
      "|   Mahesh|Data Science|  3000|              1.0|\n",
      "|Sudhanshu|Data Science| 20000|              1.0|\n",
      "|Sudhanshu|         IOT| 10000|              2.0|\n",
      "|Sudhanshu|    Big Data|  5000|              0.0|\n",
      "|    Sunny|Data Science| 10000|              1.0|\n",
      "|    Sunny|    Big Data|  2000|              0.0|\n",
      "+---------+------------+------+-----------------+\n",
      "\n"
     ]
    }
   ],
   "source": [
    "# handling categorical variables\n",
    "from pyspark.ml.feature import StringIndexer\n",
    "\n",
    "indexer = StringIndexer(inputCol='Departments', outputCol='Departments_index')\n",
    "output_fixed = indexer.fit(data).transform(data)\n",
    "output_fixed.show()"
   ]
  }
 ],
 "metadata": {
  "kernelspec": {
   "display_name": ".venv",
   "language": "python",
   "name": "python3"
  },
  "language_info": {
   "codemirror_mode": {
    "name": "ipython",
    "version": 3
   },
   "file_extension": ".py",
   "mimetype": "text/x-python",
   "name": "python",
   "nbconvert_exporter": "python",
   "pygments_lexer": "ipython3",
   "version": "3.11.7"
  }
 },
 "nbformat": 4,
 "nbformat_minor": 2
}
