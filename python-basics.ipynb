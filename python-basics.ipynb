{
 "cells": [
  {
   "cell_type": "code",
   "execution_count": 23,
   "metadata": {},
   "outputs": [],
   "source": [
    "# len() to find length, type() to check data type\n",
    "# String methods - .isalnum(), .isalpha(), .isdigit(), istitle(), .isupper(), islower(), isspace(), .endswith(''), .startswith('')\n",
    "\n",
    "# List is collection of items - list(). It is mutable, ordered, heterogenous, and indexed. It is enclosed in square brackets. It includes .append(), .extend(), .insert(idx, data), sum(li), min(li), max(li), .index(data, start, end), .count(data), .remove(data), .pop(idx), .reverse(), .sort() references & changes , sorted(li) returns sorted list and needs to be stored, .clear()\n",
    "\n",
    "# Set is unordered collection of items - set(). It is mutable, heterogenous, and unindexed. It is enclosed in curly brackets. It includes .add(data), .update(data), .remove(data), .discard(data), .pop(), .clear(), .union(), .intersection(), .difference(), .symmetric_difference(), .copy()\n",
    " \n",
    "# indexing[], slicer[start:end:step], [::-1] to reverse a list"
   ]
  },
  {
   "cell_type": "code",
   "execution_count": 29,
   "metadata": {},
   "outputs": [
    {
     "name": "stdout",
     "output_type": "stream",
     "text": [
      "[4, 16, 36, 64, 100]\n",
      "True\n",
      "{2: 'two', 4: 'four'}\n",
      "{2, 4, 6, 8, 10}\n",
      "{'Mumbai': 'India', 'Delhi': 'India', 'Bangalore': 'India', 'Chennai': 'India', 'Kolkata': 'India'}\n"
     ]
    }
   ],
   "source": [
    "# List comprehensions [operation loop condition if clauses]\n",
    "li = [1, 2 , 3, 4, 5, 6, 7, 8, 9, 10]\n",
    "print([i**2 for i in li if i%2 == 0])\n",
    "\n",
    "# Lambda function - anonymous function (arguments: expression) used with map(), filter(), reduce()\n",
    "xor = lambda x, y: x^y\n",
    "even = lambda x: x%2 == 0\n",
    "print(even(120))\n",
    "\n",
    "# Dictionary comprehension {key: value loop condition if clauses} & Set comprehension {loop condition if clauses}\n",
    "di = {1: 'one', 2: 'two', 3: 'three', 4: 'four', 5: 'five'}\n",
    "print({k:v for k, v in di.items() if k%2 == 0})\n",
    "\n",
    "si = {1, 2, 3, 4, 5, 6, 7, 8, 9, 10}\n",
    "print({i for i in si if i%2 == 0})\n",
    "\n",
    "cities = ['Mumbai', 'Delhi', 'Bangalore', 'Chennai', 'Kolkata']\n",
    "country = ['India', 'India', 'India', 'India', 'India']\n",
    "print({ci:co for ci, co in zip(cities, country)})"
   ]
  },
  {
   "cell_type": "code",
   "execution_count": 30,
   "metadata": {},
   "outputs": [
    {
     "name": "stdout",
     "output_type": "stream",
     "text": [
      "Welcome to my jupyter notebook !\n",
      "My name is Satyam !\n",
      "Thank you for visiting !\n"
     ]
    }
   ],
   "source": [
    "# Decorators - function that takes another function as argument and returns another function, wel = welcome() called as function copy, function inside function is called closure, @decorator is used to call decorator function\n",
    "\n",
    "def welcome():\n",
    "    return 'Hello World !'\n",
    "del welcome # deletes the function\n",
    "\n",
    "def welcome(func):\n",
    "    def greet():\n",
    "        print(\"Welcome to my jupyter notebook !\")\n",
    "        func()\n",
    "        print(\"Thank you for visiting !\")\n",
    "    return greet\n",
    "\n",
    "@welcome\n",
    "def name():\n",
    "    print(\"My name is Satyam !\")\n",
    "\n",
    "name() # bascially decorato r implies welcome(name)()"
   ]
  },
  {
   "cell_type": "code",
   "execution_count": 33,
   "metadata": {},
   "outputs": [],
   "source": [
    "# shallow copy vs deep copy (copy(), deepcopy(), =) works good for collections\n",
    "import copy\n",
    "li1 = [1, 2, 3, 4, 5]\n",
    "li2 = li1.copy() # shallow copy, works on item not on object, in 2d list, inner list is copied by reference as it's object\n",
    "li3 = copy.deepcopy(li1) # deep copy, works on object, in 2d list, inner list is copied by value"
   ]
  },
  {
   "cell_type": "code",
   "execution_count": 35,
   "metadata": {},
   "outputs": [
    {
     "name": "stdout",
     "output_type": "stream",
     "text": [
      "The colour of audi is red\n"
     ]
    }
   ],
   "source": [
    "# OOPS - class, object, inheritance, encapsulation, polymorphism, abstraction\n",
    "class Car:\n",
    "    def __init__(self, name, model, color):\n",
    "        self.name = name\n",
    "        self.model = model\n",
    "        self.color = color\n",
    "    def colour(self):\n",
    "        print(\"The colour of {} is {}\".format(self.name, self.color))      \n",
    "\n",
    "audi = Car(\"audi\", \"1XBLS\", \"red\")\n",
    "audi.colour()"
   ]
  },
  {
   "cell_type": "code",
   "execution_count": 40,
   "metadata": {},
   "outputs": [
    {
     "data": {
      "text/plain": [
       "1011000"
      ]
     },
     "execution_count": 40,
     "metadata": {},
     "output_type": "execute_result"
    }
   ],
   "source": [
    "# Inheritance - class child(parent)\n",
    "# protected variable - _variable can be accessed by sub classes but not by objects, private variable - __variable onnly within class\n",
    "class Audi(Car):\n",
    "    baseprice = 1000000 # class variable\n",
    "    def __init__(self, name, model, color, ai, price):\n",
    "        super().__init__(name, model, color)\n",
    "        self.ai = ai\n",
    "        self._price = price\n",
    "\n",
    "    def price(self):\n",
    "        print(\"The base price of {} is {}\".format(self.name, self.baseprice))\n",
    "\n",
    "    @classmethod\n",
    "    def increase(cl, amount):\n",
    "        cl.baseprice += amount\n",
    "\n",
    "audi = Audi(\"audi\", \"1XBLS\", \"red\", \"yes\", 1000000)\n",
    "Audi.increase(11000) # access class method using class name\n",
    "Audi.baseprice"
   ]
  },
  {
   "cell_type": "code",
   "execution_count": 56,
   "metadata": {},
   "outputs": [
    {
     "name": "stdout",
     "output_type": "stream",
     "text": [
      "The name is Satyam and age is 25\n",
      "The name is Satyam\n"
     ]
    }
   ],
   "source": [
    "# Multiple inheritance - class child(parent1, parent2)\n",
    "# Multilevel inheritance - class child(parent1), child1(child)\n",
    "\n",
    "class Parent1:\n",
    "    def __init__(self, name):\n",
    "        self.name = name\n",
    "    def show(self):\n",
    "        print(\"The name is {}\".format(self.name))\n",
    "\n",
    "class Parent2(Parent1):\n",
    "    def __init__(self, name, age):\n",
    "        super().__init__(name)\n",
    "        self.age = age\n",
    "    def display(self):\n",
    "        print(\"The age is {}\".format(self.age))\n",
    "\n",
    "class Child(Parent2, Parent1):\n",
    "    def __init__(self, name, age):\n",
    "        super().__init__(name, age)\n",
    "    def showall(self):\n",
    "        print(\"The name is {} and age is {}\".format(self.name, self.age))\n",
    "\n",
    "child = Child(\"Satyam\", 25)\n",
    "child.showall()\n",
    "Parent1.show(child) # multi-level inheritance"
   ]
  }
 ],
 "metadata": {
  "kernelspec": {
   "display_name": "base",
   "language": "python",
   "name": "python3"
  },
  "language_info": {
   "codemirror_mode": {
    "name": "ipython",
    "version": 3
   },
   "file_extension": ".py",
   "mimetype": "text/x-python",
   "name": "python",
   "nbconvert_exporter": "python",
   "pygments_lexer": "ipython3",
   "version": "3.11.7"
  }
 },
 "nbformat": 4,
 "nbformat_minor": 2
}
