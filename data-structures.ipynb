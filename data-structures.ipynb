{
 "cells": [
  {
   "cell_type": "code",
   "execution_count": 37,
   "metadata": {},
   "outputs": [
    {
     "data": {
      "text/plain": [
       "[1, 3, 5, 7, 9, 11, 13, 15, 17]"
      ]
     },
     "execution_count": 37,
     "metadata": {},
     "output_type": "execute_result"
    }
   ],
   "source": [
    "# arrays data structure\n",
    "import array as arr\n",
    "expense = arr.array('i', [2200, 2350, 2600, 2130, 2190, 1980])\n",
    "expenses = [{'January':expense[0]}, {'Febraury':expense[1]}, {'March':expense[2]}, {'April':expense[3]}, {'May':expense[4]}, {'June':expense[5]}]\n",
    "\n",
    "\"how much less spent in January compared to February : \", expenses[0]['January'] - expenses[1]['Febraury'] # -150\n",
    "\"total expense in first quarter : \", sum(expense[:3]) # 7150 \n",
    "\"total expense in first quarter : \", sum(expenses[0].values()) + sum(expenses[1].values()) + sum(expenses[2].values()) # 7150 \n",
    "\"month in which spent exactly 2200 : \", 2200 in expense # True\n",
    "\n",
    "def odd_to_max(num, arr=[]) -> list:\n",
    "    for i in range(1, num+1): \n",
    "        if i % 2 != 0: arr.append(i)\n",
    "    return arr\n",
    "\n",
    "odd_to_max(17) # [1, 3, 5, 7, 9, 11, 13, 15, 17]"
   ]
  },
  {
   "cell_type": "code",
   "execution_count": 7,
   "metadata": {},
   "outputs": [
    {
     "data": {
      "text/plain": [
       "310"
      ]
     },
     "execution_count": 7,
     "metadata": {},
     "output_type": "execute_result"
    }
   ],
   "source": [
    "# linked list is a data structure that consists of a sequence of elements where each element points to the next element, no preallocation of memory is required as benefit over array\n",
    "\n",
    "# hashmap is a data structure that implements an associative array abstract data type, a structure that can map keys to values, hash table uses a hash function to compute an index into an array of buckets or slots, from which the desired value can be found\n",
    "class Hashtable:\n",
    "    def __init__(self) -> None:\n",
    "        self.MAX = 100\n",
    "        self.arr = [None for i in range(self.MAX)]\n",
    "\n",
    "    def __hash_func(self, key):\n",
    "        sum = 0\n",
    "        for char in key:\n",
    "            sum += ord(char)\n",
    "        return sum % self.MAX\n",
    "\n",
    "    def add(self, key, value):\n",
    "        h = self.__hash_func(key)\n",
    "        self.arr[h] = value\n",
    "\n",
    "    def get(self, key):\n",
    "        h = self.__hash_func(key)\n",
    "        return self.arr[h]\n",
    "\n",
    "    def __setitem__(self, key, value):\n",
    "        h = self.__hash_func(key)\n",
    "        self.arr[h] = value\n",
    "\n",
    "    def __getitem__(self, key):\n",
    "        h = self.__hash_func(key)\n",
    "        return self.arr[h]\n",
    "\n",
    "    def __delitem__(self, key):\n",
    "        h = self.__hash_func(key)\n",
    "        self.arr[h] = None\n",
    "\n",
    "hash = Hashtable()\n",
    "hash['march 6'] = 310\n",
    "hash['march 6']"
   ]
  }
 ],
 "metadata": {
  "kernelspec": {
   "display_name": "base",
   "language": "python",
   "name": "python3"
  },
  "language_info": {
   "codemirror_mode": {
    "name": "ipython",
    "version": 3
   },
   "file_extension": ".py",
   "mimetype": "text/x-python",
   "name": "python",
   "nbconvert_exporter": "python",
   "pygments_lexer": "ipython3",
   "version": "3.11.7"
  }
 },
 "nbformat": 4,
 "nbformat_minor": 2
}
